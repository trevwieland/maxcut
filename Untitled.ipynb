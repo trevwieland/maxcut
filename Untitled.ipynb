{
 "cells": [
  {
   "cell_type": "code",
   "execution_count": 1,
   "id": "6a47b9f7",
   "metadata": {},
   "outputs": [],
   "source": [
    "import pandas as pd\n",
    "import numpy as np\n",
    "from tqdm import tqdm\n",
    "import networkx as nx\n",
    "\n",
    "import mosek\n",
    "from maxcut import MaxCutSDP, MaxCutBM"
   ]
  },
  {
   "cell_type": "code",
   "execution_count": 2,
   "id": "56e46e4e",
   "metadata": {},
   "outputs": [],
   "source": [
    "def load_graph():\n",
    "    print(\"Loading Excel Data...\")\n",
    "    cov_df = pd.read_excel(\"Data/vCU Coverage Updated.xlsx\", sheet_name=\"Overlapped_Neighbour_vCU\")\n",
    "\n",
    "    print(\"Cleaning Initial Data...\")\n",
    "    cov_df[\"NODEA\"] = cov_df[\"Main\"].str.upper()\n",
    "    cov_df[\"NODEB\"] = cov_df[\"Neighbour vCU\"].str.upper()\n",
    "    cov_df[\"EDGE_WEIGHT\"] = cov_df[\"Covered by Neighbour(%)\"] * 100\n",
    "    cov_df = cov_df[[\"NODEA\", \"NODEB\", \"EDGE_WEIGHT\"]]\n",
    "    cov_df = cov_df.sample(frac=0.2)\n",
    "    nw_view = list(cov_df.itertuples(index=False, name=None))\n",
    "\n",
    "    print(\"Creating Directed Weighted Graph...\")\n",
    "    G = nx.DiGraph()\n",
    "    G.add_weighted_edges_from(nw_view)\n",
    "\n",
    "    print(\"Combining Directed Edges to Single Edges with Average weight as new weight\")\n",
    "    UG = G.to_undirected()\n",
    "    for node in tqdm(G):\n",
    "        for ngbr in nx.neighbors(G, node):\n",
    "            if node in nx.neighbors(G, ngbr):\n",
    "                UG.edges[node, ngbr]['weight'] = (\n",
    "                    .5*G.edges[node, ngbr]['weight'] + .5*G.edges[ngbr, node]['weight']\n",
    "                )\n",
    "\n",
    "    print(\"Data Cleaning Completed, returning ready graph now!\")\n",
    "    return UG"
   ]
  },
  {
   "cell_type": "code",
   "execution_count": 3,
   "id": "613a40e4",
   "metadata": {
    "scrolled": false
   },
   "outputs": [
    {
     "name": "stdout",
     "output_type": "stream",
     "text": [
      "Loading Excel Data...\n"
     ]
    },
    {
     "name": "stderr",
     "output_type": "stream",
     "text": [
      "<ipython-input-2-09c74933ead3>:3: FutureWarning: Your version of xlrd is 1.2.0. In xlrd >= 2.0, only the xls format is supported. As a result, the openpyxl engine will be used if it is installed and the engine argument is not specified. Install openpyxl instead.\n",
      "  cov_df = pd.read_excel(\"Data/vCU Coverage Updated.xlsx\", sheet_name=\"Overlapped_Neighbour_vCU\")\n"
     ]
    },
    {
     "name": "stdout",
     "output_type": "stream",
     "text": [
      "Cleaning Initial Data...\n",
      "Creating Directed Weighted Graph...\n"
     ]
    },
    {
     "name": "stderr",
     "output_type": "stream",
     "text": [
      "100%|███████████████████████████████████████████████████████████████████████████| 4873/4873 [00:00<00:00, 66299.82it/s]"
     ]
    },
    {
     "name": "stdout",
     "output_type": "stream",
     "text": [
      "Combining Directed Edges to Single Edges with Average weight as new weight\n",
      "Data Cleaning Completed, returning ready graph now!\n",
      "Using MOSEK to solve problem...\n",
      "***Generating Adjacency Matrix...\n"
     ]
    },
    {
     "name": "stderr",
     "output_type": "stream",
     "text": [
      "\n"
     ]
    },
    {
     "name": "stdout",
     "output_type": "stream",
     "text": [
      "***Initializing semi-definite problem parameters...\n",
      "***Using CVXPY to solve the problem!\n",
      "===============================================================================\n",
      "                                     CVXPY                                     \n",
      "                                    v1.1.12                                    \n",
      "===============================================================================\n",
      "(CVXPY) Apr 16 10:25:57 PM: Your problem has 23746129 variables, 1 constraints, and 0 parameters.\n",
      "(CVXPY) Apr 16 10:25:57 PM: It is compliant with the following grammars: DCP, DQCP\n",
      "(CVXPY) Apr 16 10:25:57 PM: (If you need to solve this problem multiple times, but with different data, consider using parameters.)\n",
      "(CVXPY) Apr 16 10:25:57 PM: CVXPY will first compile your problem; then, it will invoke a numerical solver to obtain a solution.\n",
      "-------------------------------------------------------------------------------\n",
      "                                  Compilation                                  \n",
      "-------------------------------------------------------------------------------\n",
      "(CVXPY) Apr 16 10:25:57 PM: Compiling problem (target solver=MOSEK).\n",
      "(CVXPY) Apr 16 10:25:57 PM: Reduction chain: FlipObjective -> Dcp2Cone -> CvxAttr2Constr -> ConeMatrixStuffing -> MOSEK\n",
      "(CVXPY) Apr 16 10:25:57 PM: Applying reduction FlipObjective\n",
      "(CVXPY) Apr 16 10:25:57 PM: Applying reduction Dcp2Cone\n",
      "(CVXPY) Apr 16 10:25:57 PM: Applying reduction CvxAttr2Constr\n",
      "(CVXPY) Apr 16 10:26:14 PM: Applying reduction ConeMatrixStuffing\n",
      "(CVXPY) Apr 16 10:26:39 PM: Applying reduction MOSEK\n"
     ]
    },
    {
     "name": "stderr",
     "output_type": "stream",
     "text": [
      "\n",
      "KeyboardInterrupt\n",
      "\n"
     ]
    }
   ],
   "source": [
    "UG = load_graph()\n",
    "\n",
    "sdp_solver = MaxCutSDP(UG, solver=\"mosek\")\n",
    "sdp_solver.solve(verbose=True)"
   ]
  },
  {
   "cell_type": "code",
   "execution_count": null,
   "id": "4d97b264",
   "metadata": {},
   "outputs": [],
   "source": []
  }
 ],
 "metadata": {
  "kernelspec": {
   "display_name": "Python 3",
   "language": "python",
   "name": "python3"
  },
  "language_info": {
   "codemirror_mode": {
    "name": "ipython",
    "version": 3
   },
   "file_extension": ".py",
   "mimetype": "text/x-python",
   "name": "python",
   "nbconvert_exporter": "python",
   "pygments_lexer": "ipython3",
   "version": "3.8.7"
  }
 },
 "nbformat": 4,
 "nbformat_minor": 5
}
